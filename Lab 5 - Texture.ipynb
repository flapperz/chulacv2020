{
 "cells": [
  {
   "cell_type": "markdown",
   "id": "knowing-currency",
   "metadata": {},
   "source": [
    "# 2110443 - Computer Vision (2020/2)\n",
    "## Lab 5 - Texture\n",
    "In this lab, we will learn to use texture to segment 'things' from images. This notebook includes both coding and written questions. Please hand in this notebook file with all outputs and your answer. <br>\n",
    "<b>Please note that collaboration is encouraged in this course.</b> You must turn in <b>your own write ups</b> of all problems. If you collaborate with others, you must put the names and ids of the students you worked with in below block."
   ]
  },
  {
   "cell_type": "markdown",
   "id": "controlling-tuesday",
   "metadata": {},
   "source": [
    "Collaboration List:\n",
    "- Napat Samsow\n",
    "- ..."
   ]
  },
  {
   "cell_type": "markdown",
   "id": "caroline-grace",
   "metadata": {},
   "source": [
    "<b>Remark : You need to install addition package name 'scikit-image' by using the following command line</b>"
   ]
  },
  {
   "cell_type": "code",
   "execution_count": 2,
   "id": "ahead-repair",
   "metadata": {},
   "outputs": [
    {
     "name": "stdout",
     "output_type": "stream",
     "text": [
      "Collecting package metadata (current_repodata.json): ...working... done\n",
      "Solving environment: ...working... done\n",
      "\n",
      "## Package Plan ##\n",
      "\n",
      "  environment location: C:\\Users\\flap9\\miniconda3\\envs\\chulacv2020\n",
      "\n",
      "  added / updated specs:\n",
      "    - scikit-image\n",
      "\n",
      "\n",
      "The following packages will be downloaded:\n",
      "\n",
      "    package                    |            build\n",
      "    ---------------------------|-----------------\n",
      "    cytoolz-0.11.0             |   py39hb82d6ee_3         342 KB  conda-forge\n",
      "    dask-core-2021.2.0         |     pyhd8ed1ab_0         681 KB  conda-forge\n",
      "    imagecodecs-2021.1.11      |   py39he8d2a88_1         6.4 MB  conda-forge\n",
      "    lcms2-2.12                 |       h2a16943_0         882 KB  conda-forge\n",
      "    pywavelets-1.1.1           |   py39h5d4886f_3         4.2 MB  conda-forge\n",
      "    pyyaml-5.4.1               |   py39hb82d6ee_0         159 KB  conda-forge\n",
      "    scikit-image-0.18.1        |   py39h2e25243_0        10.7 MB  conda-forge\n",
      "    tifffile-2021.2.1          |     pyhd8ed1ab_0         126 KB  conda-forge\n",
      "    ------------------------------------------------------------\n",
      "                                           Total:        23.4 MB\n",
      "\n",
      "The following NEW packages will be INSTALLED:\n",
      "\n",
      "  appdirs            conda-forge/noarch::appdirs-1.4.4-pyh9f0ad1d_0\n",
      "  blosc              conda-forge/win-64::blosc-1.21.0-h0e60522_0\n",
      "  brotli             conda-forge/win-64::brotli-1.0.9-h0e60522_4\n",
      "  bzip2              conda-forge/win-64::bzip2-1.0.8-h8ffe710_4\n",
      "  charls             conda-forge/win-64::charls-2.2.0-h39d44d4_0\n",
      "  cloudpickle        conda-forge/noarch::cloudpickle-1.6.0-py_0\n",
      "  cytoolz            conda-forge/win-64::cytoolz-0.11.0-py39hb82d6ee_3\n",
      "  dask-core          conda-forge/noarch::dask-core-2021.2.0-pyhd8ed1ab_0\n",
      "  giflib             conda-forge/win-64::giflib-5.2.1-h8d14728_2\n",
      "  imagecodecs        conda-forge/win-64::imagecodecs-2021.1.11-py39he8d2a88_1\n",
      "  imageio            conda-forge/noarch::imageio-2.9.0-py_0\n",
      "  jxrlib             conda-forge/win-64::jxrlib-1.1-h8ffe710_2\n",
      "  lcms2              conda-forge/win-64::lcms2-2.12-h2a16943_0\n",
      "  lerc               conda-forge/win-64::lerc-2.2.1-h0e60522_0\n",
      "  libaec             conda-forge/win-64::libaec-1.0.4-h39d44d4_1\n",
      "  libdeflate         conda-forge/win-64::libdeflate-1.7-h8ffe710_5\n",
      "  libzopfli          conda-forge/win-64::libzopfli-1.0.3-h0e60522_0\n",
      "  networkx           conda-forge/noarch::networkx-2.5-py_0\n",
      "  openjpeg           conda-forge/win-64::openjpeg-2.4.0-h48faf41_0\n",
      "  pooch              conda-forge/noarch::pooch-1.3.0-pyhd8ed1ab_0\n",
      "  pywavelets         conda-forge/win-64::pywavelets-1.1.1-py39h5d4886f_3\n",
      "  pyyaml             conda-forge/win-64::pyyaml-5.4.1-py39hb82d6ee_0\n",
      "  scikit-image       conda-forge/win-64::scikit-image-0.18.1-py39h2e25243_0\n",
      "  snappy             conda-forge/win-64::snappy-1.1.8-ha925a31_3\n",
      "  tifffile           conda-forge/noarch::tifffile-2021.2.1-pyhd8ed1ab_0\n",
      "  toolz              conda-forge/noarch::toolz-0.11.1-py_0\n",
      "  yaml               conda-forge/win-64::yaml-0.2.5-he774522_0\n",
      "  zfp                conda-forge/win-64::zfp-0.5.5-h0e60522_4\n",
      "\n",
      "\n",
      "\n",
      "Downloading and Extracting Packages\n",
      "\n",
      "pywavelets-1.1.1     | 4.2 MB    |            |   0% \n",
      "pywavelets-1.1.1     | 4.2 MB    |            |   0% \n",
      "pywavelets-1.1.1     | 4.2 MB    | 1          |   1% \n",
      "pywavelets-1.1.1     | 4.2 MB    | 4          |   4% \n",
      "pywavelets-1.1.1     | 4.2 MB    | 6          |   6% \n",
      "pywavelets-1.1.1     | 4.2 MB    | 7          |   8% \n",
      "pywavelets-1.1.1     | 4.2 MB    | 8          |   9% \n",
      "pywavelets-1.1.1     | 4.2 MB    | #          |  10% \n",
      "pywavelets-1.1.1     | 4.2 MB    | #1         |  12% \n",
      "pywavelets-1.1.1     | 4.2 MB    | #4         |  15% \n",
      "pywavelets-1.1.1     | 4.2 MB    | #6         |  17% \n",
      "pywavelets-1.1.1     | 4.2 MB    | #7         |  18% \n",
      "pywavelets-1.1.1     | 4.2 MB    | #9         |  19% \n",
      "pywavelets-1.1.1     | 4.2 MB    | ##         |  20% \n",
      "pywavelets-1.1.1     | 4.2 MB    | ##2        |  23% \n",
      "pywavelets-1.1.1     | 4.2 MB    | ##4        |  24% \n",
      "pywavelets-1.1.1     | 4.2 MB    | ##6        |  26% \n",
      "pywavelets-1.1.1     | 4.2 MB    | ##7        |  28% \n",
      "pywavelets-1.1.1     | 4.2 MB    | ##8        |  29% \n",
      "pywavelets-1.1.1     | 4.2 MB    | ##9        |  30% \n",
      "pywavelets-1.1.1     | 4.2 MB    | ###2       |  33% \n",
      "pywavelets-1.1.1     | 4.2 MB    | ###4       |  34% \n",
      "pywavelets-1.1.1     | 4.2 MB    | ###5       |  36% \n",
      "pywavelets-1.1.1     | 4.2 MB    | ###6       |  37% \n",
      "pywavelets-1.1.1     | 4.2 MB    | ####       |  41% \n",
      "pywavelets-1.1.1     | 4.2 MB    | ####2      |  42% \n",
      "pywavelets-1.1.1     | 4.2 MB    | ####3      |  44% \n",
      "pywavelets-1.1.1     | 4.2 MB    | ####5      |  46% \n",
      "pywavelets-1.1.1     | 4.2 MB    | ####7      |  48% \n",
      "pywavelets-1.1.1     | 4.2 MB    | ####9      |  49% \n",
      "pywavelets-1.1.1     | 4.2 MB    | #####      |  51% \n",
      "pywavelets-1.1.1     | 4.2 MB    | #####1     |  52% \n",
      "pywavelets-1.1.1     | 4.2 MB    | #####3     |  53% \n",
      "pywavelets-1.1.1     | 4.2 MB    | #####4     |  55% \n",
      "pywavelets-1.1.1     | 4.2 MB    | #####7     |  58% \n",
      "pywavelets-1.1.1     | 4.2 MB    | #####8     |  59% \n",
      "pywavelets-1.1.1     | 4.2 MB    | #####9     |  59% \n",
      "pywavelets-1.1.1     | 4.2 MB    | ######     |  60% \n",
      "pywavelets-1.1.1     | 4.2 MB    | ######1    |  62% \n",
      "pywavelets-1.1.1     | 4.2 MB    | ######2    |  62% \n",
      "pywavelets-1.1.1     | 4.2 MB    | ######4    |  64% \n",
      "pywavelets-1.1.1     | 4.2 MB    | ######5    |  66% \n",
      "pywavelets-1.1.1     | 4.2 MB    | ######7    |  67% \n",
      "pywavelets-1.1.1     | 4.2 MB    | ######8    |  68% \n",
      "pywavelets-1.1.1     | 4.2 MB    | #######    |  70% \n",
      "pywavelets-1.1.1     | 4.2 MB    | #######    |  71% \n",
      "pywavelets-1.1.1     | 4.2 MB    | #######1   |  72% \n",
      "pywavelets-1.1.1     | 4.2 MB    | #######2   |  72% \n",
      "pywavelets-1.1.1     | 4.2 MB    | #######7   |  77% \n"
     ]
    }
   ],
   "source": [
    "!conda install scikit-image -c conda-forge -y"
   ]
  },
  {
   "cell_type": "code",
   "execution_count": 3,
   "id": "conditional-musical",
   "metadata": {},
   "outputs": [
    {
     "name": "stdout",
     "output_type": "stream",
     "text": [
      "pywavelets-1.1.1     | 4.2 MB    | #######8   |  79% \n",
      "pywavelets-1.1.1     | 4.2 MB    | #######9   |  80% \n",
      "pywavelets-1.1.1     | 4.2 MB    | ########1  |  81% \n",
      "pywavelets-1.1.1     | 4.2 MB    | ########2  |  82% \n",
      "pywavelets-1.1.1     | 4.2 MB    | ########3  |  83% \n",
      "pywavelets-1.1.1     | 4.2 MB    | ########4  |  84% \n",
      "pywavelets-1.1.1     | 4.2 MB    | ########5  |  85% \n",
      "pywavelets-1.1.1     | 4.2 MB    | ########5  |  86% \n",
      "pywavelets-1.1.1     | 4.2 MB    | ########8  |  88% \n",
      "pywavelets-1.1.1     | 4.2 MB    | #########  |  90% \n",
      "pywavelets-1.1.1     | 4.2 MB    | #########2 |  93% \n",
      "pywavelets-1.1.1     | 4.2 MB    | #########3 |  94% \n",
      "pywavelets-1.1.1     | 4.2 MB    | #########5 |  95% \n",
      "pywavelets-1.1.1     | 4.2 MB    | #########7 |  97% \n",
      "pywavelets-1.1.1     | 4.2 MB    | #########9 |  99% \n",
      "pywavelets-1.1.1     | 4.2 MB    | ########## | 100% \n",
      "\n",
      "pyyaml-5.4.1         | 159 KB    |            |   0% \n",
      "pyyaml-5.4.1         | 159 KB    | #          |  10% \n",
      "pyyaml-5.4.1         | 159 KB    | ########## | 100% \n",
      "pyyaml-5.4.1         | 159 KB    | ########## | 100% \n",
      "\n",
      "lcms2-2.12           | 882 KB    |            |   0% \n",
      "lcms2-2.12           | 882 KB    | 1          |   2% \n",
      "lcms2-2.12           | 882 KB    | ##7        |  27% \n",
      "lcms2-2.12           | 882 KB    | ###9       |  40% \n",
      "lcms2-2.12           | 882 KB    | ######5    |  65% \n",
      "lcms2-2.12           | 882 KB    | #######8   |  78% \n",
      "lcms2-2.12           | 882 KB    | ########## | 100% \n",
      "lcms2-2.12           | 882 KB    | ########## | 100% \n",
      "\n",
      "scikit-image-0.18.1  | 10.7 MB   |            |   0% \n",
      "scikit-image-0.18.1  | 10.7 MB   |            |   0% \n",
      "scikit-image-0.18.1  | 10.7 MB   | 1          |   1% \n",
      "scikit-image-0.18.1  | 10.7 MB   | 2          |   2% \n",
      "scikit-image-0.18.1  | 10.7 MB   | 4          |   5% \n",
      "scikit-image-0.18.1  | 10.7 MB   | 7          |   7% \n",
      "scikit-image-0.18.1  | 10.7 MB   | 8          |   9% \n",
      "scikit-image-0.18.1  | 10.7 MB   | #          |  11% \n",
      "scikit-image-0.18.1  | 10.7 MB   | #2         |  12% \n",
      "scikit-image-0.18.1  | 10.7 MB   | #5         |  15% \n",
      "scikit-image-0.18.1  | 10.7 MB   | #8         |  18% \n",
      "scikit-image-0.18.1  | 10.7 MB   | ##         |  20% \n",
      "scikit-image-0.18.1  | 10.7 MB   | ##2        |  22% \n",
      "scikit-image-0.18.1  | 10.7 MB   | ##4        |  24% \n",
      "scikit-image-0.18.1  | 10.7 MB   | ##5        |  26% \n",
      "scikit-image-0.18.1  | 10.7 MB   | ###1       |  31% \n",
      "scikit-image-0.18.1  | 10.7 MB   | ###3       |  34% \n",
      "scikit-image-0.18.1  | 10.7 MB   | ###6       |  36% \n",
      "scikit-image-0.18.1  | 10.7 MB   | ###8       |  38% \n",
      "scikit-image-0.18.1  | 10.7 MB   | ####       |  40% \n",
      "scikit-image-0.18.1  | 10.7 MB   | ####1      |  42% \n",
      "scikit-image-0.18.1  | 10.7 MB   | ####3      |  44% \n",
      "scikit-image-0.18.1  | 10.7 MB   | ####5      |  45% \n",
      "scikit-image-0.18.1  | 10.7 MB   | ####7      |  47% \n",
      "scikit-image-0.18.1  | 10.7 MB   | ####9      |  49% \n",
      "scikit-image-0.18.1  | 10.7 MB   | #####1     |  51% \n",
      "scikit-image-0.18.1  | 10.7 MB   | #####3     |  54% \n",
      "scikit-image-0.18.1  | 10.7 MB   | #####5     |  55% \n",
      "scikit-image-0.18.1  | 10.7 MB   | #####7     |  58% \n",
      "scikit-image-0.18.1  | 10.7 MB   | #####9     |  60% \n",
      "scikit-image-0.18.1  | 10.7 MB   | ######1    |  62% \n",
      "scikit-image-0.18.1  | 10.7 MB   | ######3    |  64% \n",
      "scikit-image-0.18.1  | 10.7 MB   | ######6    |  66% \n",
      "scikit-image-0.18.1  | 10.7 MB   | ######7    |  68% \n",
      "scikit-image-0.18.1  | 10.7 MB   | ######9    |  69% \n",
      "scikit-image-0.18.1  | 10.7 MB   | #######    |  71% \n",
      "scikit-image-0.18.1  | 10.7 MB   | #######3   |  73% \n",
      "scikit-image-0.18.1  | 10.7 MB   | #######5   |  75% \n",
      "scikit-image-0.18.1  | 10.7 MB   | #######6   |  77% \n",
      "scikit-image-0.18.1  | 10.7 MB   | #######8   |  79% \n",
      "scikit-image-0.18.1  | 10.7 MB   | ########   |  81% \n",
      "scikit-image-0.18.1  | 10.7 MB   | ########2  |  83% \n",
      "scikit-image-0.18.1  | 10.7 MB   | ########7  |  87% \n",
      "scikit-image-0.18.1  | 10.7 MB   | #########  |  90% \n",
      "scikit-image-0.18.1  | 10.7 MB   | #########2 |  93% \n",
      "scikit-image-0.18.1  | 10.7 MB   | #########4 |  95% \n",
      "scikit-image-0.18.1  | 10.7 MB   | #########6 |  97% \n",
      "scikit-image-0.18.1  | 10.7 MB   | #########8 |  99% \n",
      "scikit-image-0.18.1  | 10.7 MB   | ########## | 100% \n",
      "\n",
      "cytoolz-0.11.0       | 342 KB    |            |   0% \n",
      "cytoolz-0.11.0       | 342 KB    | 4          |   5% \n",
      "cytoolz-0.11.0       | 342 KB    | #######4   |  75% \n",
      "cytoolz-0.11.0       | 342 KB    | ########## | 100% \n",
      "cytoolz-0.11.0       | 342 KB    | ########## | 100% \n",
      "\n",
      "tifffile-2021.2.1    | 126 KB    |            |   0% \n",
      "tifffile-2021.2.1    | 126 KB    | #2         |  13% \n",
      "tifffile-2021.2.1    | 126 KB    | ######3    |  64% \n",
      "tifffile-2021.2.1    | 126 KB    | ########## | 100% \n",
      "\n",
      "dask-core-2021.2.0   | 681 KB    |            |   0% \n",
      "dask-core-2021.2.0   | 681 KB    | 9          |   9% \n",
      "dask-core-2021.2.0   | 681 KB    | ###7       |  38% \n",
      "dask-core-2021.2.0   | 681 KB    | ########2  |  82% \n",
      "dask-core-2021.2.0   | 681 KB    | ########## | 100% \n",
      "\n",
      "imagecodecs-2021.1.1 | 6.4 MB    |            |   0% \n",
      "imagecodecs-2021.1.1 | 6.4 MB    |            |   0% \n",
      "imagecodecs-2021.1.1 | 6.4 MB    | 2          |   2% \n",
      "imagecodecs-2021.1.1 | 6.4 MB    | 6          |   7% \n",
      "imagecodecs-2021.1.1 | 6.4 MB    | #7         |  18% \n",
      "imagecodecs-2021.1.1 | 6.4 MB    | ##1        |  22% \n",
      "imagecodecs-2021.1.1 | 6.4 MB    | ##5        |  25% \n",
      "imagecodecs-2021.1.1 | 6.4 MB    | ###3       |  33% \n",
      "imagecodecs-2021.1.1 | 6.4 MB    | ###7       |  38% \n",
      "imagecodecs-2021.1.1 | 6.4 MB    | ####1      |  42% \n",
      "imagecodecs-2021.1.1 | 6.4 MB    | ####5      |  46% \n",
      "imagecodecs-2021.1.1 | 6.4 MB    | ####9      |  49% \n",
      "imagecodecs-2021.1.1 | 6.4 MB    | #####3     |  53% \n",
      "imagecodecs-2021.1.1 | 6.4 MB    | ######3    |  63% \n",
      "imagecodecs-2021.1.1 | 6.4 MB    | ######7    |  68% \n",
      "imagecodecs-2021.1.1 | 6.4 MB    | #######2   |  73% \n",
      "imagecodecs-2021.1.1 | 6.4 MB    | #######7   |  77% \n",
      "imagecodecs-2021.1.1 | 6.4 MB    | ########1  |  81% \n",
      "imagecodecs-2021.1.1 | 6.4 MB    | ########4  |  85% \n",
      "imagecodecs-2021.1.1 | 6.4 MB    | ########8  |  88% \n",
      "imagecodecs-2021.1.1 | 6.4 MB    | #########1 |  92% \n",
      "imagecodecs-2021.1.1 | 6.4 MB    | #########8 |  99% \n",
      "imagecodecs-2021.1.1 | 6.4 MB    | ########## | 100% \n",
      "Preparing transaction: ...working... done\n",
      "Verifying transaction: ...working... done\n",
      "Executing transaction: ...working... done\n"
     ]
    }
   ],
   "source": [
    "import numpy as np\n",
    "import cv2\n",
    "from skimage import io, color\n",
    "from skimage.feature import local_binary_pattern, greycomatrix, greycoprops\n",
    "from matplotlib import pyplot as plt"
   ]
  },
  {
   "cell_type": "markdown",
   "id": "american-fundamentals",
   "metadata": {},
   "source": [
    "## Gray Level Co-Occurrence Matrix (GLCM)\n",
    "A gray level co-occurrence Matrix is a matrix that is defined over an image to be the distribution of co-occurring pixel values at a given offset. It is used as an approach to texture analysis with various computer vision applications."
   ]
  },
  {
   "cell_type": "code",
   "execution_count": 4,
   "id": "essential-paragraph",
   "metadata": {},
   "outputs": [
    {
     "data": {
      "image/png": "[encoded data removed]",
      "text/plain": [
       "<Figure size 432x288 with 1 Axes>"
      ]
     },
     "metadata": {
      "needs_background": "light"
     },
     "output_type": "display_data"
    }
   ],
   "source": [
    "patternImage = np.array([\n",
    "    [0, 0, 1, 1],\n",
    "    [0, 0, 1, 1],\n",
    "    [0, 2, 2, 2],\n",
    "    [0, 2, 3, 3]], dtype=np.uint8)\n",
    "\n",
    "plt.imshow(patternImage, cmap='gray')\n",
    "plt.show()"
   ]
  },
  {
   "cell_type": "markdown",
   "id": "healthy-hawaiian",
   "metadata": {},
   "source": [
    "We will use <a href=\"https://scikit-image.org/docs/dev/api/skimage.feature.html?highlight=lbp#skimage.feature.greycomatrix\">greycomatrix</a> function from scikit-image to extract GLCM from the sample pattern."
   ]
  },
  {
   "cell_type": "code",
   "execution_count": 5,
   "id": "beneficial-music",
   "metadata": {},
   "outputs": [
    {
     "name": "stdout",
     "output_type": "stream",
     "text": [
      "angle 0\n",
      "[[2 2 2 0]\n",
      " [0 2 0 0]\n",
      " [0 0 2 1]\n",
      " [0 0 0 1]]\n",
      "angle 45\n",
      "[[1 1 3 0]\n",
      " [0 1 1 0]\n",
      " [0 0 0 2]\n",
      " [0 0 0 0]]\n",
      "angle 90\n",
      "[[4 0 1 0]\n",
      " [0 2 2 0]\n",
      " [0 0 1 2]\n",
      " [0 0 0 0]]\n"
     ]
    }
   ],
   "source": [
    "co_ocmatrix = greycomatrix(patternImage, distances=[1], angles=[0, np.pi/4, np.pi/2], levels=4)\n",
    "\n",
    "print('angle 0')\n",
    "print(co_ocmatrix[:,:,0,0])\n",
    "\n",
    "print('angle 45')\n",
    "print(co_ocmatrix[:,:,0,1])\n",
    "\n",
    "print('angle 90')\n",
    "print(co_ocmatrix[:,:,0,2])"
   ]
  },
  {
   "cell_type": "code",
   "execution_count": 8,
   "id": "parental-judgment",
   "metadata": {},
   "outputs": [
    {
     "data": {
      "text/plain": [
       "(4, 4, 2, 3)"
      ]
     },
     "execution_count": 8,
     "metadata": {},
     "output_type": "execute_result"
    }
   ],
   "source": [
    "co_ocmatrixf = greycomatrix(patternImage, distances=[1,2], angles=[0, np.pi/4, np.pi/2], levels=4)\n",
    "co_ocmatrixf.shape"
   ]
  },
  {
   "cell_type": "markdown",
   "id": "resident-courtesy",
   "metadata": {},
   "source": [
    "### GLCM texture properties\n",
    "Fron the  GLCM we can compute the following texture properties by using <a href=''>greycoprops</a> from scikit-image\n",
    "- contrast $\\sum_{i,j=0}^{levels-1} P_{i,j}(i-j)^2$\n",
    "- dissimilarity $\\sum_{i,j=0}^{levels-1}P_{i,j}|i-j|$\n",
    "- homogeneity $\\sum_{i,j=0}^{levels-1}\\frac{P_{i,j}}{1+(i-j)^2}$\n",
    "- correlation $\\sum_{i,j=0}^{levels-1} P_{i,j}\\left[\\frac{(i-\\mu_i)(j-\\mu_j)}{\\sqrt{(\\sigma_i^2)(\\sigma_j^2)}}\\right]$"
   ]
  },
  {
   "cell_type": "code",
   "execution_count": 11,
   "id": "jewish-legislature",
   "metadata": {},
   "outputs": [
    {
     "name": "stdout",
     "output_type": "stream",
     "text": [
      "[[0.91666667 1.77777778 0.66666667]] [[0.58333333 1.11111111 0.5       ]] [[0.74166667 0.51111111 0.76666667]]\n"
     ]
    }
   ],
   "source": [
    "contrast = greycoprops(co_ocmatrix, prop='contrast')\n",
    "dissimilarity = greycoprops(co_ocmatrix, prop='dissimilarity')\n",
    "homogeneity = greycoprops(co_ocmatrix, prop='homogeneity')\n",
    "\n",
    "\n",
    "print(contrast, dissimilarity, homogeneity)"
   ]
  },
  {
   "cell_type": "code",
   "execution_count": 9,
   "id": "destroyed-azerbaijan",
   "metadata": {},
   "outputs": [
    {
     "name": "stdout",
     "output_type": "stream",
     "text": [
      "[[0. 0. 0.]] [[0. 0. 0.]] [[1. 1. 1.]]\n"
     ]
    }
   ],
   "source": [
    "patternImage2 = np.zeros((4,4), dtype=np.uint8) ## all black image!\n",
    "co_ocmatrix2 = greycomatrix(patternImage2, distances=[1], angles=[0, np.pi/4, np.pi/2])\n",
    "\n",
    "contrast2 = greycoprops(co_ocmatrix2, prop='contrast')\n",
    "dissimilarity2 = greycoprops(co_ocmatrix2, prop='dissimilarity')\n",
    "homogeneity2 = greycoprops(co_ocmatrix2, prop='homogeneity')\n",
    "\n",
    "print(contrast2, dissimilarity2, homogeneity2)"
   ]
  },
  {
   "cell_type": "markdown",
   "id": "diagnostic-reach",
   "metadata": {},
   "source": [
    "### Co-Occurrence matrix patch matching on bridge defect problem"
   ]
  },
  {
   "cell_type": "code",
   "execution_count": 10,
   "id": "constitutional-cattle",
   "metadata": {},
   "outputs": [
    {
     "ename": "AttributeError",
     "evalue": "'NoneType' object has no attribute 'copy'",
     "output_type": "error",
     "traceback": [
      "\u001b[1;31m---------------------------------------------------------------------------\u001b[0m",
      "\u001b[1;31mAttributeError\u001b[0m                            Traceback (most recent call last)",
      "\u001b[1;32m<ipython-input-10-8ac2510ce302>\u001b[0m in \u001b[0;36m<module>\u001b[1;34m\u001b[0m\n\u001b[0;32m      1\u001b[0m \u001b[0mbridgeDefectImage\u001b[0m \u001b[1;33m=\u001b[0m \u001b[0mcv2\u001b[0m\u001b[1;33m.\u001b[0m\u001b[0mimread\u001b[0m\u001b[1;33m(\u001b[0m\u001b[1;34m'assets/Lab5-crack.jpg'\u001b[0m\u001b[1;33m)\u001b[0m\u001b[1;33m\u001b[0m\u001b[1;33m\u001b[0m\u001b[0m\n\u001b[1;32m----> 2\u001b[1;33m \u001b[0mdispImage\u001b[0m \u001b[1;33m=\u001b[0m \u001b[0mcv2\u001b[0m\u001b[1;33m.\u001b[0m\u001b[0mcvtColor\u001b[0m\u001b[1;33m(\u001b[0m\u001b[0mbridgeDefectImage\u001b[0m\u001b[1;33m.\u001b[0m\u001b[0mcopy\u001b[0m\u001b[1;33m(\u001b[0m\u001b[1;33m)\u001b[0m\u001b[1;33m,\u001b[0m \u001b[0mcv2\u001b[0m\u001b[1;33m.\u001b[0m\u001b[0mCOLOR_BGR2RGB\u001b[0m\u001b[1;33m)\u001b[0m\u001b[1;33m\u001b[0m\u001b[1;33m\u001b[0m\u001b[0m\n\u001b[0m\u001b[0;32m      3\u001b[0m \u001b[1;33m\u001b[0m\u001b[0m\n\u001b[0;32m      4\u001b[0m \u001b[1;31m# Sample crack\u001b[0m\u001b[1;33m\u001b[0m\u001b[1;33m\u001b[0m\u001b[1;33m\u001b[0m\u001b[0m\n\u001b[0;32m      5\u001b[0m \u001b[0mcv2\u001b[0m\u001b[1;33m.\u001b[0m\u001b[0mrectangle\u001b[0m\u001b[1;33m(\u001b[0m\u001b[0mdispImage\u001b[0m\u001b[1;33m,\u001b[0m \u001b[1;33m(\u001b[0m\u001b[1;36m170\u001b[0m\u001b[1;33m,\u001b[0m\u001b[1;36m200\u001b[0m\u001b[1;33m)\u001b[0m\u001b[1;33m,\u001b[0m \u001b[1;33m(\u001b[0m\u001b[1;36m220\u001b[0m\u001b[1;33m,\u001b[0m\u001b[1;36m250\u001b[0m\u001b[1;33m)\u001b[0m\u001b[1;33m,\u001b[0m \u001b[1;33m(\u001b[0m\u001b[1;36m0\u001b[0m\u001b[1;33m,\u001b[0m\u001b[1;36m255\u001b[0m\u001b[1;33m,\u001b[0m\u001b[1;36m255\u001b[0m\u001b[1;33m)\u001b[0m\u001b[1;33m,\u001b[0m \u001b[1;36m5\u001b[0m\u001b[1;33m)\u001b[0m\u001b[1;33m\u001b[0m\u001b[1;33m\u001b[0m\u001b[0m\n",
      "\u001b[1;31mAttributeError\u001b[0m: 'NoneType' object has no attribute 'copy'"
     ]
    }
   ],
   "source": [
    "bridgeDefectImage = cv2.imread('assets/Lab5-crack.jpg')\n",
    "dispImage = cv2.cvtColor(bridgeDefectImage.copy(), cv2.COLOR_BGR2RGB)\n",
    "\n",
    "# Sample crack\n",
    "cv2.rectangle(dispImage, (170,200), (220,250), (0,255,255), 5)\n",
    "\n",
    "# Normal1\n",
    "cv2.rectangle(dispImage, (400,400), (450,450), (255,255,0), 5)\n",
    "\n",
    "# Crack2\n",
    "cv2.rectangle(dispImage, (540,300), (590,350), (0,255,0), 5)\n",
    "\n",
    "\n",
    "plt.figure(figsize=(10,10))\n",
    "plt.imshow(dispImage, cmap='gray')"
   ]
  },
  {
   "cell_type": "code",
   "execution_count": null,
   "id": "bearing-observer",
   "metadata": {},
   "outputs": [],
   "source": [
    "bridgeDefectImageGray = cv2.cvtColor(bridgeDefectImage, cv2.COLOR_BGR2GRAY)\n",
    "\n",
    "crackPatch1 = bridgeDefectImageGray[200:250,170:220]\n",
    "\n",
    "normalPatch1= bridgeDefectImageGray[400:450,400:450]\n",
    "\n",
    "crackPatch2 = bridgeDefectImageGray[300:350,540:590]\n",
    "\n",
    "_, axarr = plt.subplots(1,3)\n",
    "axarr[0].imshow(crackPatch1, cmap='gray')\n",
    "axarr[1].imshow(normalPatch1, cmap='gray')\n",
    "axarr[2].imshow(crackPatch2, cmap='gray')"
   ]
  },
  {
   "cell_type": "code",
   "execution_count": null,
   "id": "heated-hamburg",
   "metadata": {},
   "outputs": [],
   "source": [
    "co_ocmatrix_crackpatch1 = greycomatrix(crackPatch1, distances=[1], angles=[0, np.pi/4, np.pi/2], symmetric=True, normed=True)\n",
    "\n",
    "co_ocmatrix_normalpatch1 = greycomatrix(normalPatch1, distances=[1], angles=[0, np.pi/4, np.pi/2], symmetric=True, normed=True)\n",
    "\n",
    "co_ocmatrix_crackpatch2 = greycomatrix(crackPatch2, distances=[1], angles=[0, np.pi/4, np.pi/2], symmetric=True, normed=True)"
   ]
  },
  {
   "cell_type": "code",
   "execution_count": null,
   "id": "every-comedy",
   "metadata": {},
   "outputs": [],
   "source": [
    "dist_normal_normal = np.linalg.norm(co_ocmatrix_crackpatch1-co_ocmatrix_crackpatch2)\n",
    "print('distance crack-crack', dist_normal_normal)\n",
    "\n",
    "dist_normal_crack = np.linalg.norm(co_ocmatrix_crackpatch1-co_ocmatrix_normalpatch1)\n",
    "print('distance normal-crack', dist_normal_crack)"
   ]
  },
  {
   "cell_type": "markdown",
   "id": "ordinary-insulation",
   "metadata": {},
   "source": [
    "## Local Binary Pattern (LBP)\n",
    "Local Binary Pattern (LBP) is a efficient texture operator which labels the pixels of an image by thresholding the neighborhood of each pixel and considers the result as a binary number.  It can be seen as a unifying approach to the traditionally divergent statistical and structural models of texture analysis. The most important property of the LBP operator in real-world applications is its robustness to monotonic gray-scale changes caused, for example, by illumination variations. Another important property is its computational simplicity, which makes it possible to analyze images in challenging real-time settings."
   ]
  },
  {
   "cell_type": "code",
   "execution_count": null,
   "id": "creative-george",
   "metadata": {},
   "outputs": [],
   "source": [
    "patternImage = np.array([\n",
    "    [0, 0, 1, 1],\n",
    "    [0, 0, 1, 1],\n",
    "    [0, 2, 2, 2],\n",
    "    [0, 2, 3, 3]], dtype=np.uint8)\n",
    "\n",
    "plt.imshow(patternImage, cmap='gray')\n",
    "plt.show()"
   ]
  },
  {
   "cell_type": "code",
   "execution_count": null,
   "id": "developmental-investing",
   "metadata": {},
   "outputs": [],
   "source": [
    "lbpfeature = local_binary_pattern(patternImage, 8, 1)"
   ]
  },
  {
   "cell_type": "code",
   "execution_count": null,
   "id": "affiliated-handbook",
   "metadata": {},
   "outputs": [],
   "source": [
    "plt.imshow(lbpfeature, cmap='gray')\n",
    "print(lbpfeature)"
   ]
  },
  {
   "cell_type": "code",
   "execution_count": null,
   "id": "framed-toolbox",
   "metadata": {},
   "outputs": [],
   "source": [
    "bridgeDefectImage = cv2.imread('assets/Lab5-crack.jpg')\n",
    "dispImage = cv2.cvtColor(bridgeDefectImage.copy(), cv2.COLOR_BGR2RGB)\n",
    "\n",
    "# Sample crack\n",
    "cv2.rectangle(dispImage, (170,200), (220,250), (0,255,255), 5)\n",
    "\n",
    "# Normal1\n",
    "cv2.rectangle(dispImage, (400,400), (450,450), (255,255,0), 5)\n",
    "\n",
    "# Crack2\n",
    "cv2.rectangle(dispImage, (540,300), (590,350), (0,255,0), 5)\n",
    "\n",
    "\n",
    "plt.figure(figsize=(10,10))\n",
    "plt.imshow(dispImage, cmap='gray')"
   ]
  },
  {
   "cell_type": "markdown",
   "id": "driven-consent",
   "metadata": {},
   "source": [
    "Calculate LBP pattern for each patch by using scikit-image <a href=\"https://scikit-image.org/docs/dev/api/skimage.feature.html?highlight=lbp#skimage.feature.local_binary_pattern\">local_binary_pattern</a> <br>\n",
    "<img src=\"assets/Lab5-LBP.jpg\"/><br> Three neighborhood examples with varying p and r used to construct Local Binary Patterns. (Image from <a href=\"https://www.pyimagesearch.com/2015/12/07/local-binary-patterns-with-python-opencv/\">pyimagesearch</a>)"
   ]
  },
  {
   "cell_type": "code",
   "execution_count": null,
   "id": "theoretical-title",
   "metadata": {},
   "outputs": [],
   "source": [
    "lbp_crackpatch1 =  local_binary_pattern(crackPatch1, P=16, R=8, method='uniform') \n",
    "lbp_normalpatch1 =  local_binary_pattern(normalPatch1, P=16, R=8, method='uniform')\n",
    "lbp_crackpatch2 =  local_binary_pattern(crackPatch2, P=16, R=8, method='uniform') "
   ]
  },
  {
   "cell_type": "markdown",
   "id": "plastic-chain",
   "metadata": {},
   "source": [
    "### LBP histogram"
   ]
  },
  {
   "cell_type": "code",
   "execution_count": null,
   "id": "accompanied-brave",
   "metadata": {},
   "outputs": [],
   "source": [
    "nBin = 16\n",
    "\n",
    "_, axarr = plt.subplots(1,3)\n",
    "\n",
    "hist_crackpatch1, _ = np.histogram(lbp_crackpatch1, density=True, bins=nBin, range=(0, nBin))\n",
    "axarr[0].plot(hist_crackpatch1)\n",
    "\n",
    "hist_normalpatch1, _ = np.histogram(lbp_normalpatch1, density=True, bins=nBin, range=(0, nBin))\n",
    "axarr[1].plot(hist_normalpatch1)\n",
    "    \n",
    "hist_crackpatch2, _ = np.histogram(lbp_crackpatch2, density=True, bins=nBin, range=(0, nBin))\n",
    "axarr[2].plot(hist_crackpatch2)\n",
    "\n",
    "plt.show()"
   ]
  },
  {
   "cell_type": "markdown",
   "id": "stone-humor",
   "metadata": {},
   "source": [
    "### LBP Histogram matching"
   ]
  },
  {
   "cell_type": "markdown",
   "id": "affected-headset",
   "metadata": {},
   "source": [
    "#### Simple euclidean distance"
   ]
  },
  {
   "cell_type": "code",
   "execution_count": null,
   "id": "governing-arctic",
   "metadata": {},
   "outputs": [],
   "source": [
    "print('Eucliden distance between crack-crack',np.linalg.norm(hist_crackpatch1 - hist_crackpatch2))\n",
    "print('Eucliden distance between crack-normal',np.linalg.norm(hist_crackpatch1 - hist_normalpatch1))"
   ]
  },
  {
   "cell_type": "markdown",
   "id": "alone-prefix",
   "metadata": {},
   "source": [
    "#### KL divergence is a way of measuring the matching between two distributions \n",
    "(More detail can  be read from <a href=\"https://towardsdatascience.com/light-on-math-machine-learning-intuitive-guide-to-understanding-kl-divergence-2b382ca2b2a8\">here</a>)"
   ]
  },
  {
   "cell_type": "code",
   "execution_count": null,
   "id": "vocal-implementation",
   "metadata": {},
   "outputs": [],
   "source": [
    "def kldivergence(p, q):\n",
    "    filt = np.logical_and(p != 0, q != 0)\n",
    "    return np.sum(p[filt] * np.log2(p[filt] / q[filt]))\n",
    "\n",
    "print('KL-Divergence between crack-crack', kldivergence(hist_crackpatch1 , hist_crackpatch2))\n",
    "print('KL-Divergence between crack-normal', kldivergence(hist_crackpatch1 , hist_normalpatch1))"
   ]
  },
  {
   "cell_type": "markdown",
   "id": "satisfactory-territory",
   "metadata": {},
   "source": [
    "## Assignment 1 - Texture Segmentation"
   ]
  },
  {
   "cell_type": "markdown",
   "id": "hollow-newfoundland",
   "metadata": {},
   "source": [
    "From the above section, we can magically matching each texture with sample patches. Your today task is to implement a program to segment this leopard from the background by using chosen texture feature and sliding window method. You can search and use any knowledge from internet but do not forget to proper credit your sources. <br>\n",
    "<img src=\"assets/Lab5-leopard.jpg\"/>"
   ]
  },
  {
   "cell_type": "code",
   "execution_count": null,
   "id": "developed-belle",
   "metadata": {},
   "outputs": [],
   "source": [
    "leopardImage = cv2.imread('assets/Lab5-leopard.jpg', cv2.IMREAD_GRAYSCALE)\n",
    "leopardImage = cv2.resize(leopardImage, None,fx=0.5,fy=0.5) #resize to reduce computation time\n",
    "\n",
    "# Just sample patches, you can change to any position you want\n",
    "leopardPatch1 = leopardImage[100:150,400:450]\n",
    "leopardPatch2 = leopardImage[100:150,150:200]\n",
    "leopardPatch3 = leopardImage[200:250,300:350]\n",
    "\n",
    "nonleopardPatch1 = leopardImage[0:50,400:450]\n",
    "nonleopardPatch2 = leopardImage[250:300,0:50]\n",
    "nonleopardPatch3 = leopardImage[250:300,100:150]\n",
    "\n",
    "\n",
    "plt.figure()\n",
    "plt.imshow(leopardImage, cmap='gray')\n",
    "\n",
    "plt.figure()\n",
    "_, axarr = plt.subplots(1,3)\n",
    "axarr[0].imshow(leopardPatch1, cmap='gray')\n",
    "axarr[1].imshow(leopardPatch2, cmap='gray')\n",
    "axarr[2].imshow(leopardPatch3, cmap='gray')\n",
    "\n",
    "plt.figure()\n",
    "_, axarr = plt.subplots(1,3)\n",
    "axarr[0].imshow(nonleopardPatch1, cmap='gray')\n",
    "axarr[1].imshow(nonleopardPatch2, cmap='gray')\n",
    "axarr[2].imshow(nonleopardPatch3, cmap='gray')"
   ]
  },
  {
   "cell_type": "code",
   "execution_count": null,
   "id": "dramatic-sheriff",
   "metadata": {},
   "outputs": [],
   "source": []
  }
 ],
 "metadata": {
  "kernelspec": {
   "display_name": "Python 3",
   "language": "python",
   "name": "python3"
  },
  "language_info": {
   "codemirror_mode": {
    "name": "ipython",
    "version": 3
   },
   "file_extension": ".py",
   "mimetype": "text/x-python",
   "name": "python",
   "nbconvert_exporter": "python",
   "pygments_lexer": "ipython3",
   "version": "3.9.1"
  }
 },
 "nbformat": 4,
 "nbformat_minor": 5
}
